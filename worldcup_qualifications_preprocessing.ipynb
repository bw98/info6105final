{
 "cells": [
  {
   "cell_type": "code",
   "execution_count": 38,
   "id": "46d2763c",
   "metadata": {},
   "outputs": [
    {
     "name": "stdout",
     "output_type": "stream",
     "text": [
      "     year               area                  date   home_team    away_team  \\\n",
      "0    2022  UEFA, Group Stage    November 16, 2021    Gibraltar       Latvia   \n",
      "1    2022     AFC, Round Two    September 5, 2019     Thailand      Vietnam   \n",
      "2    2022   CAF, First Round   September 10, 2019     Eswatini     Djibouti   \n",
      "3    2022  UEFA, Group Stage       March 27, 2021   Montenegro    Gibraltar   \n",
      "4    2022           CONMEBOL     October 10, 2021    Venezuela      Ecuador   \n",
      "..    ...                ...                   ...         ...          ...   \n",
      "719  2022  UEFA, Group Stage    November 16, 2021      Finland       France   \n",
      "720  2022  UEFA, Group Stage    September 4, 2021     Slovakia      Croatia   \n",
      "721  2022     AFC, Round Two     October 10, 2019      IR Iran     Cambodia   \n",
      "722  2022  UEFA, Group Stage    September 5, 2021      Albania      Hungary   \n",
      "723  2022   AFC, Round Three     October 12, 2021      IR Iran  South Korea   \n",
      "\n",
      "     home_score  away_score                   place  \n",
      "0             1           3    Gibraltar, Gibraltar  \n",
      "1             0           0  Pathum Thani, Thailand  \n",
      "2             0           0                 Manzini  \n",
      "3             4           1   Podgorica, Montenegro  \n",
      "4             2           1      Caracas, Venezuela  \n",
      "..          ...         ...                     ...  \n",
      "719           0           2       Helsinki, Finland  \n",
      "720           0           1    Bratislava, Slovakia  \n",
      "721          14           0            Tehran, Iran  \n",
      "722           1           0         Tirana, Albania  \n",
      "723           1           1            Tehran, Iran  \n",
      "\n",
      "[724 rows x 8 columns]\n",
      "      year          area       date    home_team   away_team  home_score  \\\n",
      "0     2006  southamerica 2005-11-16    Australia     Uruguay           1   \n",
      "1     2006  southamerica 2005-11-12      Uruguay   Australia           1   \n",
      "2     2006  southamerica 2005-10-12      Uruguay   Argentina           1   \n",
      "3     2006  southamerica 2005-10-12       Brazil   Venezuela           3   \n",
      "4     2006  southamerica 2005-10-12        Chile     Ecuador           0   \n",
      "...    ...           ...        ...          ...         ...         ...   \n",
      "4222  2018        africa 2015-10-08  South Sudan  Mauritania           1   \n",
      "4223  2018        africa 2015-10-07    Mauritius       Kenya           2   \n",
      "4224  2018        africa 2015-10-07   Seychelles     Burundi           0   \n",
      "4225  2018        africa 2015-10-07     Tanzania      Malawi           2   \n",
      "4226  2018        africa 2015-10-07      Comoros     Lesotho           0   \n",
      "\n",
      "      away_score                city  \n",
      "0              0             Sydney   \n",
      "1              0         Montevideo   \n",
      "2              0         Montevideo   \n",
      "3              0              Belem   \n",
      "4              0  Santiago De Chile   \n",
      "...          ...                 ...  \n",
      "4222           1               Juba   \n",
      "4223           5           Bellevue   \n",
      "4224           1       Roche Caiman   \n",
      "4225           0      Dar Es Salaam   \n",
      "4226           0             Moroni   \n",
      "\n",
      "[4227 rows x 8 columns]\n"
     ]
    }
   ],
   "source": [
    "import json\n",
    "import pandas as pd\n",
    "\n",
    "def parse_2022():\n",
    "    filename = './data/archive/2022.worldcup.quolification.output.jl'\n",
    "    with open(filename) as f:\n",
    "        data = pd.read_json(f.read(), lines=True)\n",
    "    return data\n",
    "data_2022 = parse_2022()\n",
    "data_2022.rename(columns = {'team0':'home_team', 'team1':'away_team', 'score0': 'home_score', 'score1': 'away_score'}, inplace = True)\n",
    "# area_and_stage = data_2022['area'].str.split(',', expand=True)\n",
    "print(data_2022)\n",
    "\n",
    "def parse_2002_to_2018():\n",
    "    filename = './data/archive/2002-2018.worldcup.quolification.output.jl'\n",
    "    with open(filename) as f:\n",
    "        data = pd.read_json(f.read(), lines=True)\n",
    "    return data\n",
    "\n",
    "data_before = parse_2002_to_2018()\n",
    "data_before.rename(columns = {'team0':'home_team', 'team1':'away_team', 'score0': 'home_score', 'score1': 'away_score'}, inplace = True)\n",
    "print(data_before)\n"
   ]
  },
  {
   "cell_type": "code",
   "execution_count": null,
   "id": "cf1e6ffa",
   "metadata": {},
   "outputs": [],
   "source": []
  }
 ],
 "metadata": {
  "kernelspec": {
   "display_name": "Python 3 (ipykernel)",
   "language": "python",
   "name": "python3"
  },
  "language_info": {
   "codemirror_mode": {
    "name": "ipython",
    "version": 3
   },
   "file_extension": ".py",
   "mimetype": "text/x-python",
   "name": "python",
   "nbconvert_exporter": "python",
   "pygments_lexer": "ipython3",
   "version": "3.9.7"
  }
 },
 "nbformat": 4,
 "nbformat_minor": 5
}
